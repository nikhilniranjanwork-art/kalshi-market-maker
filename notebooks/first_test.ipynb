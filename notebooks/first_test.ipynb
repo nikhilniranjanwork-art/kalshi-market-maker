from src.model import prob_in_bracket

# Example test
S = 4455      # Current S&P price
A, B = 4450, 4475
sigma = 15    # Daily volatility in points
tau = 0.25    # Fraction of day left

p = prob_in_bracket(S, A, B, sigma, tau)
print("Probability:", p)
